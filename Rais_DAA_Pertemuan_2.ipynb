{
  "nbformat": 4,
  "nbformat_minor": 0,
  "metadata": {
    "colab": {
      "provenance": [],
      "authorship_tag": "ABX9TyMJ7mtK8FkqOJsUsvohEOm4",
      "include_colab_link": true
    },
    "kernelspec": {
      "name": "python3",
      "display_name": "Python 3"
    },
    "language_info": {
      "name": "python"
    }
  },
  "cells": [
    {
      "cell_type": "markdown",
      "metadata": {
        "id": "view-in-github",
        "colab_type": "text"
      },
      "source": [
        "<a href=\"https://colab.research.google.com/github/raisfadillahh/Tugas-Latihan-DAA/blob/main/Rais_DAA_Pertemuan_2.ipynb\" target=\"_parent\"><img src=\"https://colab.research.google.com/assets/colab-badge.svg\" alt=\"Open In Colab\"/></a>"
      ]
    },
    {
      "cell_type": "code",
      "source": [
        "a = [1,2,3]\n",
        "b = [4,5,6 ]\n",
        "\n",
        "hasil = a + b\n",
        "print(hasil)\n"
      ],
      "metadata": {
        "colab": {
          "base_uri": "https://localhost:8080/"
        },
        "id": "mU_KtaiJhrDc",
        "outputId": "9799a3f9-1c9b-48ac-a002-cf960796b62b"
      },
      "execution_count": 3,
      "outputs": [
        {
          "output_type": "stream",
          "name": "stdout",
          "text": [
            "[1, 2, 3, 4, 5, 6]\n"
          ]
        }
      ]
    },
    {
      "cell_type": "code",
      "source": [
        "def totallist(a, b):\n",
        "  total = 0\n",
        "  for i in a:\n",
        "    total += i\n",
        "  for i in b:\n",
        "    total += i\n",
        "  return total\n",
        "\n",
        "a = [1, 2, 3]\n",
        "b = [4, 5, 6]\n",
        "\n",
        "result = totallist(a, b)\n",
        "print(result)\n"
      ],
      "metadata": {
        "colab": {
          "base_uri": "https://localhost:8080/"
        },
        "id": "rK6Nj1WShxx7",
        "outputId": "0343a5ec-e31c-4811-bad4-8b9d1d0805ff"
      },
      "execution_count": 4,
      "outputs": [
        {
          "output_type": "stream",
          "name": "stdout",
          "text": [
            "21\n"
          ]
        }
      ]
    },
    {
      "cell_type": "code",
      "source": [
        "print(\"Hello world\")\n",
        "print(\"Nama saya Rais\")\n",
        "print(\"Nim saya 2023071043\")\n"
      ],
      "metadata": {
        "colab": {
          "base_uri": "https://localhost:8080/"
        },
        "id": "Op_22QYvh5cD",
        "outputId": "3582332f-aade-4725-b605-5bef1d30a290"
      },
      "execution_count": 5,
      "outputs": [
        {
          "output_type": "stream",
          "name": "stdout",
          "text": [
            "Hello world\n",
            "Nama saya Rais\n",
            "Nim saya 2023071043\n"
          ]
        }
      ]
    },
    {
      "cell_type": "code",
      "source": [
        "Nama = input(\"Masukkan Nama \")\n",
        "Nim = input(\"Masukkan Nim \")\n",
        "print(\"Nama saya\",Nama)\n",
        "print(\"Nim saya\",Nim)\n"
      ],
      "metadata": {
        "colab": {
          "base_uri": "https://localhost:8080/"
        },
        "id": "Ih_3qVXiiG3j",
        "outputId": "427bba0d-b4b4-46dc-a689-e51afc8ec888"
      },
      "execution_count": 6,
      "outputs": [
        {
          "output_type": "stream",
          "name": "stdout",
          "text": [
            "Masukkan Nama Rais\n",
            "Masukkan Nim 2023071043\n",
            "Nama saya Rais\n",
            "Nim saya 2023071043\n"
          ]
        }
      ]
    },
    {
      "cell_type": "code",
      "source": [
        "if 5>2:\n",
        "  print (\"5 lebih besar daripada 2\")\n"
      ],
      "metadata": {
        "colab": {
          "base_uri": "https://localhost:8080/"
        },
        "id": "g4vsd4lqixg9",
        "outputId": "571a01fd-1f57-4375-aec2-a25bc2eedacb"
      },
      "execution_count": 7,
      "outputs": [
        {
          "output_type": "stream",
          "name": "stdout",
          "text": [
            "5 lebih besar daripada 2\n"
          ]
        }
      ]
    },
    {
      "cell_type": "code",
      "source": [
        "mylist = [1, 2, 3, 4, 5]\n",
        "\n",
        "getfirst = mylist[0]\n",
        "getsecond = mylist[1]\n",
        "\n",
        "print(\"First element:\", getfirst)\n",
        "print(\"Second element:\", getsecond)\n"
      ],
      "metadata": {
        "colab": {
          "base_uri": "https://localhost:8080/"
        },
        "id": "_m5KiGfci_TN",
        "outputId": "0d5290f4-f945-4948-d195-6ebdf5618f64"
      },
      "execution_count": 8,
      "outputs": [
        {
          "output_type": "stream",
          "name": "stdout",
          "text": [
            "First element: 1\n",
            "Second element: 2\n"
          ]
        }
      ]
    },
    {
      "cell_type": "code",
      "source": [
        "def getlast(list):\n",
        "    size = len(list)\n",
        "    print(size)\n",
        "    return list[size-1]\n"
      ],
      "metadata": {
        "id": "94e_AOo3jP8V"
      },
      "execution_count": 11,
      "outputs": []
    },
    {
      "cell_type": "code",
      "source": [
        "def getkali(list):\n",
        "  total = 1\n",
        "  for i in list:\n",
        "    total *= i\n",
        "  return total\n",
        "\n",
        "def getsum(list):\n",
        "  total = 0\n",
        "  for i in list:\n",
        "    total += i\n",
        "  return total\n",
        "\n",
        "list = [1, 3, 5, 7]\n",
        "print(getsum(list))\n",
        "print(getkali(list))"
      ],
      "metadata": {
        "colab": {
          "base_uri": "https://localhost:8080/"
        },
        "id": "sJKA8eFTjhmD",
        "outputId": "a2769daa-eacc-494b-c982-2bf56f9a5c8c"
      },
      "execution_count": 14,
      "outputs": [
        {
          "output_type": "stream",
          "name": "stdout",
          "text": [
            "16\n",
            "105\n"
          ]
        }
      ]
    }
  ]
}