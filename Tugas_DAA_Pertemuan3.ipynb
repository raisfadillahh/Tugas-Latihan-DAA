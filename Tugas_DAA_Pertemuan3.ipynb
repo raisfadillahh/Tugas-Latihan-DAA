{
  "nbformat": 4,
  "nbformat_minor": 0,
  "metadata": {
    "colab": {
      "provenance": [],
      "authorship_tag": "ABX9TyNClhwUmSoMGloozZdRsFSq"
    },
    "kernelspec": {
      "name": "python3",
      "display_name": "Python 3"
    },
    "language_info": {
      "name": "python"
    }
  },
  "cells": [
    {
      "cell_type": "code",
      "execution_count": null,
      "metadata": {
        "colab": {
          "base_uri": "https://localhost:8080/"
        },
        "id": "nTwC0iGCFjIA",
        "outputId": "093cf8de-c6fb-48a3-d4f0-49e8b0ea6ad4"
      },
      "outputs": [
        {
          "output_type": "stream",
          "name": "stdout",
          "text": [
            "['John', 33, 'Toronto', True]\n"
          ]
        }
      ],
      "source": [
        "aList = [\"John\", 33, \"Toronto\", True]\n",
        "print(aList)"
      ]
    },
    {
      "cell_type": "code",
      "source": [
        "import datetime as dt\n",
        "tanggal = dt.date.today()\n",
        "mahasiswa = [\"Rais\", \"2023071043\", \"Informatika\", \"DAA\", tanggal, \"Universitas Pembangunan Jaya\"]\n",
        "print(mahasiswa)"
      ],
      "metadata": {
        "colab": {
          "base_uri": "https://localhost:8080/"
        },
        "id": "lQpRIcQBGx6e",
        "outputId": "51e109e1-d552-4f4f-e993-86a60c228229"
      },
      "execution_count": null,
      "outputs": [
        {
          "output_type": "stream",
          "name": "stdout",
          "text": [
            "['Rais', '2023071043', 'Informatika', 'DAA', datetime.date(2024, 9, 20), 'Universitas Pembangunan Jaya']\n"
          ]
        }
      ]
    },
    {
      "cell_type": "code",
      "source": [
        "print(mahasiswa[0])"
      ],
      "metadata": {
        "colab": {
          "base_uri": "https://localhost:8080/"
        },
        "id": "NsBb7crKIJrU",
        "outputId": "24164fb0-96e6-4cfe-cf26-74f70051c07e"
      },
      "execution_count": null,
      "outputs": [
        {
          "output_type": "stream",
          "name": "stdout",
          "text": [
            "Rais\n"
          ]
        }
      ]
    },
    {
      "cell_type": "code",
      "source": [
        "print (aList[3])"
      ],
      "metadata": {
        "colab": {
          "base_uri": "https://localhost:8080/"
        },
        "id": "OjbeVI_tHq3d",
        "outputId": "94d67a17-1dbe-4dd8-ac6b-bf722d8e9dd2"
      },
      "execution_count": null,
      "outputs": [
        {
          "output_type": "stream",
          "name": "stdout",
          "text": [
            "True\n"
          ]
        }
      ]
    },
    {
      "cell_type": "code",
      "source": [
        "print(aList[0])"
      ],
      "metadata": {
        "colab": {
          "base_uri": "https://localhost:8080/"
        },
        "id": "McJVOwfSHweF",
        "outputId": "9c783306-f4f7-4df6-b176-8e50c8ff7e02"
      },
      "execution_count": null,
      "outputs": [
        {
          "output_type": "stream",
          "name": "stdout",
          "text": [
            "John\n"
          ]
        }
      ]
    },
    {
      "cell_type": "code",
      "source": [
        "print (\"Nim:\", mahasiswa[1])"
      ],
      "metadata": {
        "colab": {
          "base_uri": "https://localhost:8080/"
        },
        "id": "6IAvPvjcImOk",
        "outputId": "d8e7e55a-173d-4850-a86f-76e679f7c3fa"
      },
      "execution_count": null,
      "outputs": [
        {
          "output_type": "stream",
          "name": "stdout",
          "text": [
            "Nim: 2023071043\n"
          ]
        }
      ]
    },
    {
      "cell_type": "code",
      "source": [
        "print(\"Nama Kampus :\", mahasiswa[5])"
      ],
      "metadata": {
        "colab": {
          "base_uri": "https://localhost:8080/"
        },
        "id": "m2moJQSqJA6t",
        "outputId": "7097c82c-596a-42ae-8d94-6f42fca9da10"
      },
      "execution_count": null,
      "outputs": [
        {
          "output_type": "stream",
          "name": "stdout",
          "text": [
            "Nama Kampus : Universitas Pembangunan Jaya\n"
          ]
        }
      ]
    },
    {
      "cell_type": "code",
      "source": [
        "warna=[\"Merah\", \"Biru\", \"Kuning\", \"Hijau\"]\n",
        "warna[2:4]"
      ],
      "metadata": {
        "colab": {
          "base_uri": "https://localhost:8080/"
        },
        "id": "Zf6TsaegJgMN",
        "outputId": "8e1816fd-5747-435a-df4f-c2aa7a5bd47a"
      },
      "execution_count": null,
      "outputs": [
        {
          "output_type": "execute_result",
          "data": {
            "text/plain": [
              "['Kuning', 'Hijau']"
            ]
          },
          "metadata": {},
          "execution_count": 41
        }
      ]
    },
    {
      "cell_type": "code",
      "source": [
        "warna=[\"Merah\", \"Biru\", \"Kuning\", \"Hijau\"]\n",
        "for aWarna in warna:\n",
        "   print(aWarna, \"Kotak\")\n"
      ],
      "metadata": {
        "colab": {
          "base_uri": "https://localhost:8080/"
        },
        "id": "vgVChuZ7Kex9",
        "outputId": "6933811d-96ea-42d2-84f7-eeb5fb4acf0c"
      },
      "execution_count": null,
      "outputs": [
        {
          "output_type": "stream",
          "name": "stdout",
          "text": [
            "Merah Kotak\n",
            "Biru Kotak\n",
            "Kuning Kotak\n",
            "Hijau Kotak\n"
          ]
        }
      ]
    },
    {
      "cell_type": "code",
      "source": [
        "mahasiswa = [\"Rais\", \"2023071043\", \"Informatika\", \"DAA\", str(tanggal), \"Universitas Pembangunan Jaya\"]\n",
        "for aMahasiswa in mahasiswa:\n",
        " print(aMahasiswa, \"UPJ\")"
      ],
      "metadata": {
        "colab": {
          "base_uri": "https://localhost:8080/"
        },
        "id": "DyIOREVmMv51",
        "outputId": "7819db02-019b-4258-f281-2db1cc1ec051"
      },
      "execution_count": null,
      "outputs": [
        {
          "output_type": "stream",
          "name": "stdout",
          "text": [
            "Rais UPJ\n",
            "2023071043 UPJ\n",
            "Informatika UPJ\n",
            "DAA UPJ\n",
            "2024-09-20 UPJ\n",
            "Universitas Pembangunan Jaya UPJ\n"
          ]
        }
      ]
    },
    {
      "cell_type": "code",
      "source": [
        "UPJ = (\"Universitas\", \"Pembangunan\", \"Jaya\")\n",
        "UPJ[2]"
      ],
      "metadata": {
        "id": "lU1TkM7oOVVl",
        "colab": {
          "base_uri": "https://localhost:8080/",
          "height": 35
        },
        "outputId": "120808ef-8a77-43ea-dd86-7344753c055e"
      },
      "execution_count": 45,
      "outputs": [
        {
          "output_type": "execute_result",
          "data": {
            "text/plain": [
              "'Jaya'"
            ],
            "application/vnd.google.colaboratory.intrinsic+json": {
              "type": "string"
            }
          },
          "metadata": {},
          "execution_count": 45
        }
      ]
    },
    {
      "cell_type": "code",
      "source": [
        "import pandas as pd\n",
        "\n",
        "\n",
        "data = {\n",
        "    'NO': ['1', '2', '3',],\n",
        "    'Prodi': ['INF', 'SIF', 'TM'],\n",
        "    'Mahasiswa': [80, 55, 45],\n",
        "    'Lakilaki': [79, 30, 35],\n",
        "    'Perempuan': [1, 25, 10]\n",
        "}\n",
        "\n",
        "\n",
        "mhs = pd.DataFrame(data)\n",
        "\n",
        "\n",
        "print(mhs)\n"
      ],
      "metadata": {
        "colab": {
          "base_uri": "https://localhost:8080/"
        },
        "id": "otsT7VbqQQ_1",
        "outputId": "e8236347-673f-4b1b-88cf-c7a11577fe26"
      },
      "execution_count": 47,
      "outputs": [
        {
          "output_type": "stream",
          "name": "stdout",
          "text": [
            "  NO Prodi  Mahasiswa  Lakilaki  Perempuan\n",
            "0  1   INF         80        79          1\n",
            "1  2   SIF         55        30         25\n",
            "2  3    TM         45        35         10\n"
          ]
        }
      ]
    },
    {
      "cell_type": "code",
      "source": [
        "AngkaPertama = 100\n",
        "AngkaKedua = (200, 400, 600)\n",
        "AngkaKetiga = 300\n",
        "AngkaKeempat = (400, 800)\n",
        "\n",
        "print(AngkaPertama)"
      ],
      "metadata": {
        "colab": {
          "base_uri": "https://localhost:8080/"
        },
        "id": "C-DKxSQ6cbtG",
        "outputId": "2339b8a0-42f3-483a-daac-bde9cca68262"
      },
      "execution_count": 48,
      "outputs": [
        {
          "output_type": "stream",
          "name": "stdout",
          "text": [
            "100\n"
          ]
        }
      ]
    },
    {
      "cell_type": "code",
      "source": [
        "AngkaSemua = (\n",
        "    100,\n",
        "    (200, 400, 600),\n",
        "    300,\n",
        "    (400, 800)\n",
        ")\n",
        "\n",
        "\n",
        "print(AngkaSemua)"
      ],
      "metadata": {
        "colab": {
          "base_uri": "https://localhost:8080/"
        },
        "id": "n-4qdS0iddxW",
        "outputId": "39d83b30-a7c2-415a-f8ab-78826368b827"
      },
      "execution_count": 49,
      "outputs": [
        {
          "output_type": "stream",
          "name": "stdout",
          "text": [
            "(100, (200, 400, 600), 300, (400, 800))\n"
          ]
        }
      ]
    },
    {
      "cell_type": "code",
      "source": [
        "def pisahkan_warna(kata_kata):\n",
        "\n",
        "\n",
        "  warna_kata = {'yellow': set(), 'red': set()}\n",
        "  warna_dominan = {'yellow': {'dandelions', 'leaves'}, 'red': {'blood', 'rose', 'fire hydrant'}}\n",
        "\n",
        "  for kata in kata_kata:\n",
        "    for warna in warna_dominan:\n",
        "      if kata in warna_dominan[warna]:\n",
        "        warna_kata[warna].add(kata)\n",
        "\n",
        "  return warna_kata\n",
        "\n",
        "kata_kata = {'blood', 'rose', 'dandelions', 'fire hydrant', 'leaves'}\n",
        "hasil = pisahkan_warna(kata_kata)\n",
        "print(hasil)"
      ],
      "metadata": {
        "colab": {
          "base_uri": "https://localhost:8080/"
        },
        "id": "HWzeT_w5df8y",
        "outputId": "47ec7f95-01fc-4ea7-fd67-bdb88ac40c68"
      },
      "execution_count": 50,
      "outputs": [
        {
          "output_type": "stream",
          "name": "stdout",
          "text": [
            "{'yellow': {'leaves', 'dandelions'}, 'red': {'fire hydrant', 'blood', 'rose'}}\n"
          ]
        }
      ]
    },
    {
      "cell_type": "code",
      "source": [
        "import numpy as np\n",
        "\n",
        "angkaangka = np.array([[100, 200, 300], [700, 600, 500], [900, 1000, 800]])\n",
        "print(angkaangka)"
      ],
      "metadata": {
        "colab": {
          "base_uri": "https://localhost:8080/"
        },
        "id": "b7r7josRd1iE",
        "outputId": "20f800b5-4792-47cb-ee11-d167b2d6efb9"
      },
      "execution_count": 53,
      "outputs": [
        {
          "output_type": "stream",
          "name": "stdout",
          "text": [
            "[[ 100  200  300]\n",
            " [ 700  600  500]\n",
            " [ 900 1000  800]]\n"
          ]
        }
      ]
    }
  ]
}